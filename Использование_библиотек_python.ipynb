{
  "nbformat": 4,
  "nbformat_minor": 0,
  "metadata": {
    "colab": {
      "provenance": []
    },
    "kernelspec": {
      "name": "python3",
      "display_name": "Python 3"
    },
    "language_info": {
      "name": "python"
    }
  },
  "cells": [
    {
      "cell_type": "code",
      "execution_count": null,
      "metadata": {
        "id": "Uc_ruLDU7hfc"
      },
      "outputs": [],
      "source": [
        "from google.colab import drive\n",
        "drive.mount('/content/gdrive/')\n",
        "\n",
        "import pandas as pd\n",
        "\n",
        "data = pd.read_csv(r\"/content/gdrive/My Drive/time_series_covid19_confirmed_global.csv\", header = 0, sep=',')\n",
        "\n"
      ]
    },
    {
      "cell_type": "code",
      "source": [
        "print(data.columns)"
      ],
      "metadata": {
        "id": "hFlqwJmd8dQ5"
      },
      "execution_count": null,
      "outputs": []
    },
    {
      "cell_type": "code",
      "source": [
        "import numpy as np\n",
        "data_7 = data[np.append(data.columns[1:2], data.columns[-7:])] # last 15\n",
        "print(data_7)"
      ],
      "metadata": {
        "id": "vq49O8Gv9L0i"
      },
      "execution_count": null,
      "outputs": []
    },
    {
      "cell_type": "code",
      "source": [
        "the_last_column = str(data.columns[-1:][0])\n",
        "data_5 = data[np.append(data.columns[1:2], data.columns[-5:])]"
      ],
      "metadata": {
        "id": "K4xSd0_w_ZcO"
      },
      "execution_count": 5,
      "outputs": []
    },
    {
      "cell_type": "code",
      "source": [
        "highest = data_5[data_5[data_5.columns[-1]] > 10000000]     # countries with over 1M infected last day\n",
        "highest.loc[:, ['Country/Region',the_last_column]]"
      ],
      "metadata": {
        "id": "iEJUO76T-nfP"
      },
      "execution_count": null,
      "outputs": []
    },
    {
      "cell_type": "code",
      "source": [
        "import matplotlib.pyplot as plt\n",
        "y = highest.columns\n",
        "fig, ax = plt.subplots()\n",
        "ax.axis(\"equal\")\n",
        "vals = highest[y[1]]\n",
        "labels = highest[y[0]]\n",
        "ax.pie(vals, labels=labels, radius = 1.5, autopct='%.1f')"
      ],
      "metadata": {
        "id": "z2ttDl_Q94mk"
      },
      "execution_count": null,
      "outputs": []
    },
    {
      "cell_type": "code",
      "source": [
        "data_30 = data[np.append(data.columns[1:2], data.columns[-30:])] # last 30\n",
        "print(data_30)"
      ],
      "metadata": {
        "id": "V7pma1gBAB03"
      },
      "execution_count": null,
      "outputs": []
    },
    {
      "cell_type": "code",
      "source": [
        "highest_ = highest.loc[:, ['Country/Region',the_last_column]]\n",
        "highest_.rename(columns={'Country/Region':'country',the_last_column:'last_day'},inplace=True)\n",
        "highest_m = highest_.sort_values('last_day')\n",
        "highest_m"
      ],
      "metadata": {
        "id": "manE07E9DtYq"
      },
      "execution_count": null,
      "outputs": []
    },
    {
      "cell_type": "code",
      "source": [
        "# Getting last 1 rows from df\n",
        "data_max = highest_m.tail(1)\n",
        "  \n",
        "print(data_max)"
      ],
      "metadata": {
        "id": "IBooxghpD5wK"
      },
      "execution_count": null,
      "outputs": []
    },
    {
      "cell_type": "code",
      "source": [
        "data_7 = data[np.append(data.columns[1:2], data.columns[-7:])] # last 7\n",
        "print(data_7)"
      ],
      "metadata": {
        "id": "kF76qrKyEYAo"
      },
      "execution_count": null,
      "outputs": []
    },
    {
      "cell_type": "code",
      "source": [
        "data_7['average all'] = data_7.mean(axis=1)\n",
        "data_7"
      ],
      "metadata": {
        "id": "q3UA3d7wEzjA"
      },
      "execution_count": null,
      "outputs": []
    },
    {
      "cell_type": "code",
      "source": [
        "end = data_7.loc[1:288, ['Country/Region', 'average all']]\n",
        "print(end)"
      ],
      "metadata": {
        "colab": {
          "base_uri": "https://localhost:8080/"
        },
        "id": "mDIXAX20KtNu",
        "outputId": "a218811b-a12c-4928-9d74-9fe78179e2a5"
      },
      "execution_count": 15,
      "outputs": [
        {
          "output_type": "stream",
          "name": "stdout",
          "text": [
            "           Country/Region    average all\n",
            "1                 Albania  333220.142857\n",
            "2                 Algeria  270989.714286\n",
            "3                 Andorra   46778.285714\n",
            "4                  Angola  103131.000000\n",
            "5              Antarctica      11.000000\n",
            "..                    ...            ...\n",
            "284    West Bank and Gaza  703036.000000\n",
            "285  Winter Olympics 2022     535.000000\n",
            "286                 Yemen   11945.000000\n",
            "287                Zambia  333685.000000\n",
            "288              Zimbabwe  257893.000000\n",
            "\n",
            "[288 rows x 2 columns]\n"
          ]
        }
      ]
    },
    {
      "cell_type": "code",
      "source": [
        "end.nlargest(10, ['average all'])"
      ],
      "metadata": {
        "id": "GKR-Pk3IK_yR"
      },
      "execution_count": null,
      "outputs": []
    }
  ]
}